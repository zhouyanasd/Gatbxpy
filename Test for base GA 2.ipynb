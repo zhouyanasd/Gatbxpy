{
 "cells": [
  {
   "cell_type": "markdown",
   "metadata": {},
   "source": [
    "# CoE_Test 3"
   ]
  },
  {
   "cell_type": "markdown",
   "metadata": {},
   "source": [
    "## import"
   ]
  },
  {
   "cell_type": "markdown",
   "metadata": {},
   "source": [
    "### function"
   ]
  },
  {
   "cell_type": "code",
   "execution_count": 1,
   "metadata": {},
   "outputs": [],
   "source": [
    "import numpy as np\n",
    "import geatpy as ga\n",
    "from decimal import Decimal\n",
    "\n",
    "def rosen(alpha=1e2,**X):\n",
    "    x = [X[key]/10 for key in X.keys()]\n",
    "    \"\"\"Rosenbrock test objective function\"\"\"\n",
    "    x = [x] if np.isscalar(x[0]) else x  # scalar into list\n",
    "    x = np.asarray(x)\n",
    "    f = [sum(alpha * (x[:-1]**2 - x[1:])**2 + (1. - x[:-1])**2) for x in x]\n",
    "    return f if len(f) > 1 else f[0]  # 1-element-list into scalar\n",
    "\n",
    "def schwefelmult(pen_fac=1e4, **X):\n",
    "    x = np.array([X[key]/10 for key in X.keys()])\n",
    "    \"\"\"multimodal Schwefel function with domain -500..500\"\"\"\n",
    "    y = [x] if np.isscalar(x[0]) else x\n",
    "    N = len(y[0])\n",
    "    f = np.array([418.9829 * N - 1.27275661e-5 * N - sum(x * np.sin(np.abs(x)**0.5))\n",
    "            + pen_fac * sum((abs(x) > 500) * (abs(x) - 500)**2) for x in y])\n",
    "    return f if len(f) > 1 else f[0]\n",
    "\n",
    "def levy(**X):\n",
    "    \"\"\"a rather benign multimodal function.\n",
    "\n",
    "    xopt == ones, fopt == 0.0\n",
    "    \"\"\"\n",
    "    x = np.array([X[key]/10 for key in X.keys()])\n",
    "    w = 1 + (np.asarray(x) - 1) / 4\n",
    "    del x\n",
    "    f = np.sin(np.pi * w[0])**2\n",
    "    f += (w[-1] - 1)**2 * (1 + np.sin(2 * np.pi * w[-1])**2)\n",
    "    w = w[1:-1]\n",
    "    return f + sum((w - 1)**2 * (1 + 10 * np.sin(np.pi * w + 1)**2))\n",
    "\n",
    "def elliconstraint(cfac=1e8, tough=True, cond=1e6, **X):\n",
    "    x = np.array([X[key]/10 for key in X.keys()])\n",
    "    \"\"\"ellipsoid test objective function with \"constraints\" \"\"\"\n",
    "    N = len(x)\n",
    "    f = sum(cond**(np.arange(N)[-1::-1] / (N - 1)) * x**2)\n",
    "    cvals = (x[0] + 1,\n",
    "             x[0] + 1 + 100 * x[1],\n",
    "             x[0] + 1 - 100 * x[1])\n",
    "    if tough:\n",
    "        f += cfac * sum(max(0, c) for c in cvals)\n",
    "    else:\n",
    "        f += cfac * sum(max(0, c + 1e-3)**2 for c in cvals)\n",
    "    return f\n",
    "\n",
    "def spherew(**X):\n",
    "    x = np.array([X[key]/10 for key in X.keys()])\n",
    "    \"\"\"Sphere (squared norm) with sum x_i = 1 test objective function\"\"\"\n",
    "    # return np.random.rand(1)[0]**0 * sum(x**2) + 1 * np.random.rand(1)[0]\n",
    "    # s = sum(abs(x))\n",
    "    # return sum((x/s+0)**2) - 1/len(x)\n",
    "    # return sum((x/s)**2) - 1/len(x)\n",
    "    return -0.01 * x[0] + abs(x[0])**-2 * sum(x[1:]**2)\n",
    "\n",
    "# rosen(**dict(zip(keys,P)))"
   ]
  },
  {
   "cell_type": "markdown",
   "metadata": {},
   "source": [
    "### ga"
   ]
  },
  {
   "cell_type": "code",
   "execution_count": 2,
   "metadata": {},
   "outputs": [
    {
     "data": {
      "text/plain": [
       "array([[1.0000e-04, 1.0000e-04, 1.0000e-04, 1.0000e-04, 1.0000e-04,\n",
       "        1.0000e+00, 1.0000e-04, 1.0000e+00],\n",
       "       [9.9999e+00, 9.9999e+00, 9.9999e+00, 9.9999e+00, 9.9999e+00,\n",
       "        8.0000e+00, 9.9999e+00, 8.0000e+00]])"
      ]
     },
     "execution_count": 2,
     "metadata": {},
     "output_type": "execute_result"
    }
   ],
   "source": [
    "dim = 8\n",
    "keys = ['x', 'y', 'z', 'x1', 'y1', 'z1', 'x2', 'y2']\n",
    "ranges = np.vstack([[0, 10], [0, 10], [0, 10], [0, 10], [0, 10], [0, 9], [0, 10], [0, 9]]).T\n",
    "borders = np.vstack([[0, 0]] * dim).T\n",
    "precisions = np.array([4, 4, 4, 4, 4, 0, 4, 0])\n",
    "codes = np.array([None, None, None, None, None, 1, None, 1])\n",
    "scales = np.array([0] * dim)\n",
    "FieldDR = ga.crtfld(ranges, borders, list(precisions)) \n",
    "FieldDR"
   ]
  },
  {
   "cell_type": "code",
   "execution_count": 3,
   "metadata": {},
   "outputs": [
    {
     "data": {
      "text/plain": [
       "array([[17, 17, 17, 17, 17, 4, 4, 4],\n",
       "       [0, 0, 0, 0, 0, 0, 0, 0],\n",
       "       [10, 10, 10, 10, 10, 9, 10, 9],\n",
       "       [1, 1, 1, 1, 1, 1, 1, 1],\n",
       "       [0, 0, 0, 0, 0, 0, 0, 0],\n",
       "       [0, 0, 0, 0, 0, 0, 0, 0],\n",
       "       [0, 0, 0, 0, 0, 0, 0, 0]], dtype=object)"
      ]
     },
     "execution_count": 3,
     "metadata": {},
     "output_type": "execute_result"
    }
   ],
   "source": [
    "ranges = np.vstack([[0, 10], [0, 10], [0, 10], [0, 10], [0, 10], [0, 9], [0, 10], [0, 9]]).T\n",
    "borders = np.vstack([[0, 0]] * dim).T\n",
    "precisions = np.array([4, 4, 4, 4, 4, 0, 0, 0])\n",
    "codes = np.array([1, 1, 1, 1, 1, 1, 1, 1])\n",
    "scales = np.array([0] * dim)\n",
    "FieldD = ga.crtfld(ranges, borders, list(precisions), list(codes), list(scales))\n",
    "FieldD"
   ]
  },
  {
   "cell_type": "markdown",
   "metadata": {},
   "source": [
    "## Create base function"
   ]
  },
  {
   "cell_type": "markdown",
   "metadata": {},
   "source": [
    "### rep"
   ]
  },
  {
   "cell_type": "code",
   "execution_count": 4,
   "metadata": {},
   "outputs": [],
   "source": [
    "# MatIn = [1 2 3]\n",
    "# REPN = [1 2]: MatOut = [1 2 3 1 2 3]\n",
    "# REPN = [2 1]: MatOut = [1 2 3;\n",
    "#                        1 2 3]\n",
    "# REPN = [3 2]: MatOut = [1 2 3 1 2 3;\n",
    "#                        1 2 3 1 2 3;\n",
    "#                        1 2 3 1 2 3]\n",
    "\n",
    "def rep(MatIn,REPN):\n",
    "    N  = MatIn.shape\n",
    "    # Calculate\n",
    "    Ind_D = np.remainder(np.arange(0,REPN[0]*N[0]),N[0])\n",
    "    Ind_L = np.remainder(np.arange(0,REPN[1]*N[1]),N[1])\n",
    "\n",
    "    # Create output matrix\n",
    "    MatOut = np.zeros((REPN[0]*N[0], REPN[1]*N[1]), dtype=MatIn.dtype)\n",
    "    for i, ind_d in enumerate(Ind_D):\n",
    "        for j, ind_l in enumerate(Ind_L):\n",
    "            MatOut[i,j] = MatIn[ind_d,ind_l]\n",
    "    return MatOut"
   ]
  },
  {
   "cell_type": "code",
   "execution_count": 5,
   "metadata": {},
   "outputs": [
    {
     "data": {
      "text/plain": [
       "array([[1, 2, 3, 1, 2, 3],\n",
       "       [1, 2, 3, 1, 2, 3],\n",
       "       [1, 2, 3, 1, 2, 3]])"
      ]
     },
     "execution_count": 5,
     "metadata": {},
     "output_type": "execute_result"
    }
   ],
   "source": [
    "MatIn = np.array([[1,2,3]])\n",
    "REPN = [3,2]\n",
    "MatOut = rep(MatIn,REPN)\n",
    "MatOut"
   ]
  },
  {
   "cell_type": "markdown",
   "metadata": {},
   "source": [
    "### crtfld"
   ]
  },
  {
   "cell_type": "code",
   "execution_count": 6,
   "metadata": {},
   "outputs": [
    {
     "data": {
      "text/plain": [
       "4"
      ]
     },
     "execution_count": 6,
     "metadata": {},
     "output_type": "execute_result"
    }
   ],
   "source": [
    "def get_decimals_bit(value):\n",
    "    value_p = str(value).split(\".\")\n",
    "    try:\n",
    "        if float(value_p[1]) == 0:\n",
    "            return int(0)\n",
    "        else: \n",
    "            return len(value_p[1])\n",
    "    except IndexError:\n",
    "        return int(0)\n",
    "    \n",
    "get_decimals_bit(123.0001)"
   ]
  },
  {
   "cell_type": "code",
   "execution_count": 7,
   "metadata": {
    "scrolled": true
   },
   "outputs": [
    {
     "data": {
      "text/plain": [
       "-2.11438"
      ]
     },
     "execution_count": 7,
     "metadata": {},
     "output_type": "execute_result"
    }
   ],
   "source": [
    "def round_lb(value, precision, border):\n",
    "    value_p = get_decimals_bit(value)\n",
    "    value_str = str(value+0.1**precision*abs(bool(border)-1)) if precision >= value_p else str(value)\n",
    "    precision_str = '0.'+''.join(['0']*precision)\n",
    "    rounding = \"ROUND_CEILING\" if abs(bool(border)-1) else \"ROUND_FLOOR\"\n",
    "    value_deal = Decimal(value_str).quantize(Decimal(precision_str), rounding = rounding)  \n",
    "    return int(value_deal) if precision == 0 else float(value_deal)\n",
    "round_lb(-2.1144, 5, 0)"
   ]
  },
  {
   "cell_type": "code",
   "execution_count": 8,
   "metadata": {},
   "outputs": [
    {
     "data": {
      "text/plain": [
       "2.12"
      ]
     },
     "execution_count": 8,
     "metadata": {},
     "output_type": "execute_result"
    }
   ],
   "source": [
    "def round_ub(value, precision, border):\n",
    "    value_p = get_decimals_bit(value)\n",
    "    value_str = str(value-0.1**precision*abs(bool(border)-1)) if precision >= value_p else str(value)\n",
    "    precision_str = '0.'+''.join(['0']*precision)\n",
    "    rounding = \"ROUND_FLOOR\" if abs(bool(border)-1) else \"ROUND_CEILING\"\n",
    "    value_deal = Decimal(value_str).quantize(Decimal(precision_str), rounding = rounding)  \n",
    "    return int(value_deal) if precision == 0 else float(value_deal)\n",
    "round_ub(2.11441341515, 2, 1)"
   ]
  },
  {
   "cell_type": "code",
   "execution_count": 9,
   "metadata": {},
   "outputs": [],
   "source": [
    "def crtfld(ranges, borders=None, precisions=None, codes=None, scales=None):\n",
    "    dim = ranges.shape[1]\n",
    "    lb = [round_lb(ranges[0][x],precisions[x], borders[0][x]) for x in range(dim)]\n",
    "    ub = [round_ub(ranges[1][x],precisions[x], borders[1][x]) for x in range(dim)]\n",
    "    if codes == None:\n",
    "        FieldDR = np.array([lb, ub])\n",
    "        return FieldDR\n",
    "    else:\n",
    "        scales = [0] * dim if scales is None else scales\n",
    "        lbin = [1 if precisions[x] == 0 and borders[0][x]==0 else borders[0][x] for x in range(dim)]\n",
    "        ubin = [1 if precisions[x] == 0 and borders[1][x]==0 else borders[1][x] for x in range(dim)]\n",
    "        len_ = [int((x-y)*10**p).bit_length() for p,x,y in zip(precisions,ub,lb)]\n",
    "        FieldD = np.array([len_, lb, ub, codes, scales, lbin, ubin], dtype=object)\n",
    "        return FieldD"
   ]
  },
  {
   "cell_type": "code",
   "execution_count": 10,
   "metadata": {
    "scrolled": true
   },
   "outputs": [
    {
     "data": {
      "text/plain": [
       "array([[17, 17, 17, 17, 4, 3, 4, 4],\n",
       "       [0, 0, 0, 0, 0, 1, -3, 0],\n",
       "       [10, 10, 10, 10, 10, 8, 5, 9],\n",
       "       [1, 1, 1, 1, 1, 1, 1, 1],\n",
       "       [0, 0, 0, 0, 0, 0, 0, 0],\n",
       "       [1, 1, 1, 1, 1, 0, 1, 0],\n",
       "       [0, 0, 0, 0, 0, 0, 0, 0]], dtype=object)"
      ]
     },
     "execution_count": 10,
     "metadata": {},
     "output_type": "execute_result"
    }
   ],
   "source": [
    "dim = 8\n",
    "keys = ['x', 'y', 'z', 'x1', 'y1', 'z1', 'x2', 'y2']\n",
    "ranges = np.vstack([[0, 10], [0, 10], [0, 10], [0, 10], [0, 10], [1, 8], [-3, 5], [0, 9]]).T\n",
    "borders = np.vstack([[1, 0], [1, 0],  [1, 0],  [1, 0],  [1, 0],  [0, 0], [1, 0],  [0, 0]]).T\n",
    "precisions = np.array([4, 4, 4, 4, 0, 0, 0, 0])\n",
    "codes = np.array([1, 1, 1, 1, 1, 1, 1, 1])\n",
    "scales = np.array([0] * dim)\n",
    "FieldDR = ga.crtfld(ranges, borders, list(precisions))\n",
    "ga.crtfld(ranges, borders=borders, precisions=list(precisions), codes=list(codes), scales=list(scales))"
   ]
  },
  {
   "cell_type": "code",
   "execution_count": 11,
   "metadata": {
    "scrolled": true
   },
   "outputs": [
    {
     "data": {
      "text/plain": [
       "array([[17, 17, 17, 17, 4, 3, 3, 3],\n",
       "       [0.0, 0.0, 0.0, 0.0, 0, 2, -3, 1],\n",
       "       [9.9999, 9.9999, 9.9999, 9.9999, 9, 7, 4, 8],\n",
       "       [1, 1, 1, 1, 1, 1, 1, 1],\n",
       "       [0, 0, 0, 0, 0, 0, 0, 0],\n",
       "       [1, 1, 1, 1, 1, 1, 1, 1],\n",
       "       [0, 0, 0, 0, 1, 1, 1, 1]], dtype=object)"
      ]
     },
     "execution_count": 11,
     "metadata": {},
     "output_type": "execute_result"
    }
   ],
   "source": [
    "crtfld(ranges, borders=borders, precisions=list(precisions), codes=list(codes), scales=list(scales))"
   ]
  },
  {
   "cell_type": "code",
   "execution_count": 12,
   "metadata": {},
   "outputs": [
    {
     "data": {
      "text/plain": [
       "array([[ 0.    ,  0.    ,  0.    ,  0.    ,  0.    ,  2.    , -3.    ,\n",
       "         1.    ],\n",
       "       [ 9.9999,  9.9999,  9.9999,  9.9999,  9.    ,  7.    ,  4.    ,\n",
       "         8.    ]])"
      ]
     },
     "execution_count": 12,
     "metadata": {},
     "output_type": "execute_result"
    }
   ],
   "source": [
    "FieldDR"
   ]
  },
  {
   "cell_type": "code",
   "execution_count": 13,
   "metadata": {},
   "outputs": [
    {
     "data": {
      "text/plain": [
       "array([[ 0.    ,  0.    ,  0.    ,  0.    ,  0.    ,  2.    , -3.    ,\n",
       "         1.    ],\n",
       "       [ 9.9999,  9.9999,  9.9999,  9.9999,  9.    ,  7.    ,  4.    ,\n",
       "         8.    ]])"
      ]
     },
     "execution_count": 13,
     "metadata": {},
     "output_type": "execute_result"
    }
   ],
   "source": [
    "crtfld(ranges, borders, list(precisions))"
   ]
  },
  {
   "cell_type": "code",
   "execution_count": 14,
   "metadata": {},
   "outputs": [
    {
     "data": {
      "text/plain": [
       "array([[3, 4],\n",
       "       [-3, 2],\n",
       "       [4, 10],\n",
       "       [0, 1],\n",
       "       [1, 0],\n",
       "       [1, 1],\n",
       "       [1, 1]], dtype=object)"
      ]
     },
     "execution_count": 14,
     "metadata": {},
     "output_type": "execute_result"
    }
   ],
   "source": [
    "x1 = [-3, 5] # 自变量1的范围\n",
    "x2 = [2, 10] # 自变量2的范围\n",
    "b1 = [1, 0] # 自变量1的边界\n",
    "b2 = [1, 1] # 自变量2的边界\n",
    "codes = [0, 1] # 变量编码方式，分别采用二进制和格雷编码\n",
    "precisions = [0, 0] # 各变量的精度，0表示精确到个位\n",
    "scales = [1, 0] # 采用算术刻度\n",
    "ranges = np.vstack([x1, x2]).T # 生成自变量的范围矩阵\n",
    "borders = np.vstack([b1, b2]).T # 生成自变量的边界矩阵\n",
    "# 调用crtfld函数生成区域描述器\n",
    "ga.crtfld(ranges, borders, precisions, codes, scales)"
   ]
  },
  {
   "cell_type": "code",
   "execution_count": 15,
   "metadata": {},
   "outputs": [
    {
     "data": {
      "text/plain": [
       "array([[3, 4],\n",
       "       [-3, 2],\n",
       "       [4, 10],\n",
       "       [0, 1],\n",
       "       [1, 0],\n",
       "       [1, 1],\n",
       "       [1, 1]], dtype=object)"
      ]
     },
     "execution_count": 15,
     "metadata": {},
     "output_type": "execute_result"
    }
   ],
   "source": [
    "crtfld(ranges, borders, precisions, codes, scales)"
   ]
  },
  {
   "cell_type": "code",
   "execution_count": 16,
   "metadata": {},
   "outputs": [
    {
     "data": {
      "text/plain": [
       "array([[4, 7, 4, 4, 4, 4, 4, 4],\n",
       "       [-3, 2, -3, 2, -3, 2, -3, 2],\n",
       "       [5, 10, 5, 10, 5, 10, 5, 10],\n",
       "       [0, 1, 0, 0, 0, 0, 0, 0],\n",
       "       [1, 0, 1, 1, 1, 1, 1, 1],\n",
       "       [1, 1, 1, 1, 1, 1, 1, 1],\n",
       "       [0, 1, 0, 1, 0, 1, 0, 1]], dtype=object)"
      ]
     },
     "execution_count": 16,
     "metadata": {},
     "output_type": "execute_result"
    }
   ],
   "source": [
    "codes = [0, 1, 0, 0, 0, 0, 0, 0] # 变量编码方式，分别采用二进制和格雷编码\n",
    "precisions = [0, 1, 0, 0, 0, 0, 0, 0] # 各变量的精度，0表示精确到个位\n",
    "scales = [1, 0, 1, 1, 1, 1, 1, 1] # 采用算术刻度\n",
    "ranges = np.vstack([[-3, 5], [2, 10], [-3, 5], [2, 10], [-3, 5], [2, 10], [-3, 5], [2, 10]]).T # 生成自变量的范围矩阵\n",
    "borders = np.vstack([[1, 0], [1, 1],  [1, 0],  [1, 1],  [1, 0],  [1, 1],  [1, 0],  [1, 1]]).T # 生成自变量的边界矩阵\n",
    "# 调用crtfld函数生成区域描述器\n",
    "ga.crtfld(ranges, borders, precisions, codes, scales)"
   ]
  },
  {
   "cell_type": "code",
   "execution_count": 17,
   "metadata": {},
   "outputs": [
    {
     "data": {
      "text/plain": [
       "array([[17, 4, 4, 4, 4, 3, 4, 4],\n",
       "       [0.0, 0.0, 0.0, 0.0, 0.0, 1.0, -3.0, 2.0],\n",
       "       [10.1, 10.0, 10.0, 10.0, 10.0, 8.0, 5.0, 10.0],\n",
       "       [1, 1, 1, 1, 1, 1, 1, 1],\n",
       "       [0, 0, 0, 0, 0, 0, 0, 0],\n",
       "       [1, 1, 1, 1, 1, 0, 1, 0],\n",
       "       [1, 0, 0, 0, 0, 0, 0, 0]], dtype=object)"
      ]
     },
     "execution_count": 17,
     "metadata": {},
     "output_type": "execute_result"
    }
   ],
   "source": [
    "dim = 8\n",
    "ranges = np.vstack([[0, 10.1], [0, 10], [0, 10], [0, 10], [0, 10], [1, 8], [-3, 5], [2, 10]]).T\n",
    "borders = np.vstack([[1, 1], [1, 0],  [1, 0],  [1, 0],  [1, 0],  [0, 0], [1, 0],  [0, 0]]).T\n",
    "precisions = [4, 0, 0, 0, 0, 0, 0, 0]\n",
    "codes = [1, 1, 1, 1, 1, 1, 1, 1]\n",
    "scales = [0] * dim\n",
    "ga.crtfld(ranges, borders, precisions, codes, scales)"
   ]
  },
  {
   "cell_type": "code",
   "execution_count": 18,
   "metadata": {},
   "outputs": [
    {
     "data": {
      "text/plain": [
       "array([[17, 4, 4, 4, 4, 3, 4, 4],\n",
       "       [0.0, 0.0, 0.0, 0.0, 0.0, 1.0, -3.0, 2.0],\n",
       "       [10.1, 10.0, 10.0, 10.0, 10.0, 8.0, 5.0, 10.0],\n",
       "       [1, 1, 1, 1, 1, 1, 1, 1],\n",
       "       [0, 0, 0, 0, 0, 0, 0, 0],\n",
       "       [1, 1, 1, 1, 1, 0, 1, 0],\n",
       "       [1, 0, 0, 0, 0, 0, 0, 0]], dtype=object)"
      ]
     },
     "execution_count": 18,
     "metadata": {},
     "output_type": "execute_result"
    }
   ],
   "source": [
    "# 问题：原函数精度要全部为0才进行重整\n",
    "dim = ranges.shape[1]\n",
    "lb = [ranges[0][x]+1 if (np.array(precisions)== 0).all() and borders[0][x]==0 else ranges[0][x] for x in range(dim)]\n",
    "ub = [ranges[1][x]-1 if (np.array(precisions)== 0).all() and borders[1][x]==0 else ranges[1][x] for x in range(dim)]\n",
    "scales = [0] * dim if scales is None else scales\n",
    "lbin = [1 if (np.array(precisions)== 0).all() and borders[0][x]==0 else borders[0][x] for x in range(dim)]\n",
    "ubin = [1 if (np.array(precisions)== 0).all() and borders[1][x]==0 else borders[1][x] for x in range(dim)]\n",
    "len_ = [(int(x-y)*10**p).bit_length() for p,x,y in zip(precisions,ub,lb)]\n",
    "FieldD = np.array([len_, lb, ub, codes, scales, lbin, ubin], dtype=object)\n",
    "FieldD"
   ]
  },
  {
   "cell_type": "code",
   "execution_count": 19,
   "metadata": {},
   "outputs": [
    {
     "data": {
      "text/plain": [
       "array([[-2.499 ,  4.    , -4.8   ],\n",
       "       [ 1.999 ,  4.    ,  3.5999]])"
      ]
     },
     "execution_count": 19,
     "metadata": {},
     "output_type": "execute_result"
    }
   ],
   "source": [
    "x1 = [-2.5, 2] # 自变量1的范围\n",
    "x2 = [3, 5] # 自变量2的范围\n",
    "x3 = [-4.8, 3.6] # 自变量3的范围\n",
    "b1 = [0, 0] # 自变量1的边界\n",
    "b2 = [0, 0] # 自变量2的边界\n",
    "b3 = [1, 0] # 自变量3的边界\n",
    "precisions =[3, 0, 4] # 各变量的精度，3表示精确到小数点后3位\n",
    "ranges = np.vstack([x1, x2, x3]).T # 生成自变量的范围矩阵\n",
    "borders = np.vstack([b1, b2, b3]).T # 生成自变量的边界矩阵\n",
    "# 调用crtfld函数生成区域描述器\n",
    "ga.crtfld(ranges, borders, precisions)"
   ]
  },
  {
   "cell_type": "code",
   "execution_count": 20,
   "metadata": {
    "scrolled": true
   },
   "outputs": [
    {
     "data": {
      "text/plain": [
       "array([[-2.499 ,  4.    , -4.8   ],\n",
       "       [ 1.999 ,  4.    ,  3.5999]])"
      ]
     },
     "execution_count": 20,
     "metadata": {},
     "output_type": "execute_result"
    }
   ],
   "source": [
    "# 问题：当精度小于给定变量精度时会产生bug，如果不包含边界，会使精度位减少\n",
    "dim = ranges.shape[1]\n",
    "lb = [ranges[0][x]+0.1**precisions[x] if borders[0][x]==0 else ranges[0][x] for x in range(dim)]\n",
    "ub = [ranges[1][x]-0.1**precisions[x] if borders[1][x]==0 else ranges[1][x] for x in range(dim)]\n",
    "# scales = [0] * dim if scales is None else scales\n",
    "# lbin = [borders[0][x] if precisions[x] > 0 or borders[0][x]==1 else 1 for x in range(dim)]\n",
    "# ubin = [borders[1][x] if precisions[x] > 0 or borders[1][x]==1 else 1 for x in range(dim)]\n",
    "# len_ = [int(x-y).bit_length() for x,y in zip(ub,lb)]\n",
    "FieldDR = np.array([lb, ub])\n",
    "FieldDR"
   ]
  },
  {
   "cell_type": "code",
   "execution_count": 21,
   "metadata": {},
   "outputs": [
    {
     "data": {
      "text/plain": [
       "array([list([13, 0, 17]), list([-2.499, 4, -4.8]),\n",
       "       list([1.999, 4, 3.5999]), list([1, 1, 1, 1, 1, 1, 1, 1]),\n",
       "       list([0, 0, 0, 0, 0, 0, 0, 0]), list([0, 1, 1]), list([0, 1, 0])],\n",
       "      dtype=object)"
      ]
     },
     "execution_count": 21,
     "metadata": {},
     "output_type": "execute_result"
    }
   ],
   "source": [
    "# 整体进行一个改进\n",
    "dim = ranges.shape[1]\n",
    "lb = [round_lb(ranges[0][x],precisions[x], borders[0][x]) for x in range(dim)]\n",
    "ub = [round_ub(ranges[1][x],precisions[x], borders[1][x]) for x in range(dim)]\n",
    "scales = [0] * dim if scales is None else scales\n",
    "lbin = [1 if precisions[x] == 0 and borders[0][x]==0 else borders[0][x] for x in range(dim)]\n",
    "ubin = [1 if precisions[x] == 0 and borders[1][x]==0 else borders[1][x] for x in range(dim)]\n",
    "len_ = [int((x-y)*10**p).bit_length() for p,x,y in zip(precisions,ub,lb)]\n",
    "FieldD = np.array([len_, lb, ub, codes, scales, lbin, ubin], dtype=object)\n",
    "FieldD"
   ]
  },
  {
   "cell_type": "markdown",
   "metadata": {},
   "source": [
    "### crtrp"
   ]
  },
  {
   "cell_type": "code",
   "execution_count": 22,
   "metadata": {},
   "outputs": [],
   "source": [
    "# % Compute Matrix with Range of variables and Matrix with Lower value\n",
    "#    Range = rep((FieldDR(2,:)-FieldDR(1,:)),[Nind 1]);\n",
    "#    Lower = rep(FieldDR(1,:), [Nind 1]);\n",
    "\n",
    "# % Create initial population\n",
    "# % Each row contains one individual, the values of each variable uniformly\n",
    "# % distributed between lower and upper bound (given by FieldDR)\n",
    "#    Chrom = rand(Nind,Nvar) .* Range + Lower;\n",
    "def crtrp(Nind,FieldDR):\n",
    "    Nvar = FieldDR.shape[1]\n",
    "    # Compute Matrix with Range of variables and Matrix with Lower value\n",
    "    Range = rep((FieldDR[1,:]-FieldDR[0,:]).reshape(1,-1),[Nind,1])\n",
    "    Lower =  rep(FieldDR[0,:].reshape(1,-1), [Nind,1])\n",
    "\n",
    "    # Create initial population\n",
    "    # Each row contains one individual, the values of each variable uniformly\n",
    "    # distributed between lower and upper bound (given by FieldDR)\n",
    "    Chrom = np.random.rand(Nind,Nvar) * Range + Lower\n",
    "    return Chrom"
   ]
  },
  {
   "cell_type": "code",
   "execution_count": 23,
   "metadata": {},
   "outputs": [],
   "source": [
    "FieldDR = crtfld(ranges, borders, list(precisions))\n",
    "Nvar, Nind = FieldDR.shape[1], 4"
   ]
  },
  {
   "cell_type": "code",
   "execution_count": 24,
   "metadata": {},
   "outputs": [
    {
     "data": {
      "text/plain": [
       "array([[ 0.84708417,  4.        ,  2.04132763],\n",
       "       [-0.19858649,  4.        , -4.46496917],\n",
       "       [ 1.01943179,  4.        ,  1.17870388],\n",
       "       [ 1.69512793,  4.        , -0.73137753]])"
      ]
     },
     "execution_count": 24,
     "metadata": {},
     "output_type": "execute_result"
    }
   ],
   "source": [
    "Chrom = crtrp(Nind,FieldDR)\n",
    "Chrom"
   ]
  },
  {
   "cell_type": "code",
   "execution_count": 25,
   "metadata": {},
   "outputs": [
    {
     "data": {
      "text/plain": [
       "array([[ 0.9865279 ,  4.        , -0.9409796 ],\n",
       "       [ 0.32895799,  4.        ,  3.05963408],\n",
       "       [ 1.1906573 ,  4.        , -4.5977648 ],\n",
       "       [-0.04742692,  4.        , -1.54311955]])"
      ]
     },
     "execution_count": 25,
     "metadata": {},
     "output_type": "execute_result"
    }
   ],
   "source": [
    "ga.crtrp(Nind,FieldDR)"
   ]
  },
  {
   "cell_type": "markdown",
   "metadata": {},
   "source": [
    "### crtip"
   ]
  },
  {
   "cell_type": "code",
   "execution_count": 26,
   "metadata": {},
   "outputs": [],
   "source": [
    "def crtip(Nind,FieldDR):\n",
    "    Chrom = crtrp(Nind,FieldDR)\n",
    "#     func = lambda x : int(Decimal(str(x)).quantize(Decimal('0.'), rounding = 'ROUND_HALF_EVEN'))\n",
    "#     return np.frompyfunc(func,1,1)(Chrom).astype(np.int64)\n",
    "    return np.floor(Chrom).astype(np.int64)"
   ]
  },
  {
   "cell_type": "code",
   "execution_count": 27,
   "metadata": {},
   "outputs": [
    {
     "data": {
      "text/plain": [
       "array([[ 0,  4, -2],\n",
       "       [ 0,  4, -2],\n",
       "       [ 0,  4,  3],\n",
       "       [-3,  4, -4]], dtype=int64)"
      ]
     },
     "execution_count": 27,
     "metadata": {},
     "output_type": "execute_result"
    }
   ],
   "source": [
    "crtip(Nind,FieldDR)"
   ]
  },
  {
   "cell_type": "code",
   "execution_count": 28,
   "metadata": {},
   "outputs": [
    {
     "data": {
      "text/plain": [
       "array([[ 1,  4, -2],\n",
       "       [ 0,  4,  1],\n",
       "       [ 0,  4,  1],\n",
       "       [-1,  4,  2]], dtype=int64)"
      ]
     },
     "execution_count": 28,
     "metadata": {},
     "output_type": "execute_result"
    }
   ],
   "source": [
    "ga.crtip(Nind,FieldDR)"
   ]
  },
  {
   "cell_type": "markdown",
   "metadata": {},
   "source": [
    "### crtbase"
   ]
  },
  {
   "cell_type": "code",
   "execution_count": 29,
   "metadata": {},
   "outputs": [],
   "source": [
    "def crtbase(Lind, Base=2):\n",
    "    if type(Lind) == int and type(Base) == int:\n",
    "        LenL = 1\n",
    "        Lind_ = np.array([Lind])\n",
    "        Base_ =  Base * np.ones(LenL, dtype=np.int)\n",
    "        print(1)\n",
    "    elif type(Lind) == np.ndarray and type(Base) == int:\n",
    "        ml, LenL = Lind.shape\n",
    "        Lind_ = Lind[0]\n",
    "        Base_ = Base * np.ones(LenL, dtype=np.int)\n",
    "        print(2)\n",
    "    elif type(Lind) == np.ndarray and type(Base) == np.ndarray:\n",
    "        ml, LenL = Lind.shape\n",
    "        mb, LenB = Base.shape\n",
    "        if LenL == LenB:\n",
    "            Base_ = Base[0]\n",
    "            Lind_ = Lind[0]\n",
    "        else:\n",
    "            raise ValueError('Vector dimensions must agree')\n",
    "        print(3)\n",
    "    elif type(Lind) == int and type(Base) == np.ndarray:\n",
    "        LenL = int(Lind)\n",
    "        mb, LenB = Base.shape\n",
    "        if LenL == LenB:\n",
    "            Base_ = Base[0]\n",
    "            Lind_ = np.ones(LenL, dtype=np.int)\n",
    "        else:\n",
    "            raise ValueError('Vector dimensions must agree')\n",
    "        print(4)\n",
    "    else:\n",
    "        raise ValueError('Lind or Base must be numpy.array in shape (1,2) or int')\n",
    "    BaseV = []\n",
    "    for i in range(LenL):\n",
    "        BaseV.extend([Base_[i]]*Lind_[i])\n",
    "#         for j in range(Lind_[i]):\n",
    "#             BaseV.append(Base_[i])\n",
    "    return np.array(BaseV, dtype=np.int64).reshape(1,-1)"
   ]
  },
  {
   "cell_type": "code",
   "execution_count": 30,
   "metadata": {},
   "outputs": [
    {
     "name": "stdout",
     "output_type": "stream",
     "text": [
      "4\n",
      "1\n",
      "1\n"
     ]
    },
    {
     "data": {
      "text/plain": [
       "(array([[4, 2, 3]], dtype=int64),\n",
       " array([[2, 2, 2]], dtype=int64),\n",
       " array([[3, 3, 3, 3]], dtype=int64))"
      ]
     },
     "execution_count": 30,
     "metadata": {},
     "output_type": "execute_result"
    }
   ],
   "source": [
    "crtbase(3, np.array([[4,2,3]])), crtbase(3), crtbase(4, 3)"
   ]
  },
  {
   "cell_type": "code",
   "execution_count": 31,
   "metadata": {
    "scrolled": true
   },
   "outputs": [
    {
     "name": "stdout",
     "output_type": "stream",
     "text": [
      "3\n",
      "2\n"
     ]
    },
    {
     "data": {
      "text/plain": [
       "(array([[4, 4, 2, 3, 3, 3]], dtype=int64),\n",
       " array([[3, 3, 3, 3, 3, 3, 3, 3, 3]], dtype=int64))"
      ]
     },
     "execution_count": 31,
     "metadata": {},
     "output_type": "execute_result"
    }
   ],
   "source": [
    "crtbase(np.array([[2,1,3]]), np.array([[4,2,3]])),crtbase(np.array([[4,2,3]]), 3)"
   ]
  },
  {
   "cell_type": "code",
   "execution_count": 32,
   "metadata": {},
   "outputs": [
    {
     "data": {
      "text/plain": [
       "(array([[4, 2, 3]], dtype=int64),\n",
       " array([[2, 2, 2]], dtype=int64),\n",
       " array([[3, 3, 3, 3]], dtype=int64))"
      ]
     },
     "execution_count": 32,
     "metadata": {},
     "output_type": "execute_result"
    }
   ],
   "source": [
    "ga.crtbase(3, np.array([[4,2,3]])),ga.crtbase(3), ga.crtbase(4, 3)"
   ]
  },
  {
   "cell_type": "code",
   "execution_count": 33,
   "metadata": {
    "scrolled": true
   },
   "outputs": [
    {
     "data": {
      "text/plain": [
       "(array([[4, 4, 2, 3, 3, 3]], dtype=int64),\n",
       " array([[3, 3, 3, 3, 3, 3, 3, 3, 3]], dtype=int64))"
      ]
     },
     "execution_count": 33,
     "metadata": {},
     "output_type": "execute_result"
    }
   ],
   "source": [
    "ga.crtbase(np.array([[2,1,3]]), np.array([[4,2,3]])),ga.crtbase(np.array([[4,2,3]]), 3)"
   ]
  },
  {
   "cell_type": "markdown",
   "metadata": {},
   "source": [
    "### crtbp"
   ]
  },
  {
   "cell_type": "code",
   "execution_count": 34,
   "metadata": {},
   "outputs": [],
   "source": [
    "def crtbp(Nind, LorB):\n",
    "    if type(LorB) is int:\n",
    "        BaseV = crtbase(LorB)\n",
    "        Lind = LorB\n",
    "    elif type(LorB) is np.ndarray:\n",
    "        BaseV = LorB\n",
    "        Lind = LorB.shape[1]\n",
    "        \n",
    "    Chrom = np.random.rand(Nind,Lind)*BaseV[np.zeros(Nind, dtype=np.int),:]\n",
    "    return np.floor(Chrom).astype(np.int64)"
   ]
  },
  {
   "cell_type": "code",
   "execution_count": 35,
   "metadata": {},
   "outputs": [
    {
     "name": "stdout",
     "output_type": "stream",
     "text": [
      "4\n"
     ]
    },
    {
     "data": {
      "text/plain": [
       "array([[0.69413343, 2.12884691, 2.81555411],\n",
       "       [0.58207062, 1.64262237, 2.37921634],\n",
       "       [0.24841486, 1.42188998, 0.96913904],\n",
       "       [0.33179876, 2.95810054, 1.3757405 ]])"
      ]
     },
     "execution_count": 35,
     "metadata": {},
     "output_type": "execute_result"
    }
   ],
   "source": [
    "BaseV = crtbase(3, np.array([[2,3,3]]))\n",
    "# BaseV[np.zeros(Nind, dtype=np.int),:]\n",
    "np.random.rand(Nind,3)*BaseV[np.zeros(Nind, dtype=np.int),:]"
   ]
  },
  {
   "cell_type": "code",
   "execution_count": 36,
   "metadata": {},
   "outputs": [
    {
     "data": {
      "text/plain": [
       "array([[1, 3, 1, 2],\n",
       "       [0, 2, 0, 0],\n",
       "       [1, 0, 5, 3]], dtype=int64)"
      ]
     },
     "execution_count": 36,
     "metadata": {},
     "output_type": "execute_result"
    }
   ],
   "source": [
    "crtbp(3,np.array([[2,4,6,7]]))"
   ]
  },
  {
   "cell_type": "markdown",
   "metadata": {},
   "source": [
    "### xovmp\n",
    "多点交叉算子"
   ]
  },
  {
   "cell_type": "code",
   "execution_count": 37,
   "metadata": {},
   "outputs": [],
   "source": [
    "def xovmp(OldChrom, Px=0.7, Npt=0, Rs=0):\n",
    "    Nind,Lind = OldChrom.shape\n",
    "    if Lind < 2:\n",
    "        return OldChrom\n",
    "    \n",
    "    Xops = int(Decimal(str(Nind/2)).quantize(Decimal('0.'), rounding = 'ROUND_FLOOR'))\n",
    "    DoCross = np.random.rand(Xops) < Px\n",
    "    odd = np.arange(1,Nind,2)\n",
    "    even = np.arange(0,Nind-1,2)\n",
    "    Mask = (1-bool(Rs))|(OldChrom[odd, :] != OldChrom[even, :])\n",
    "    Mask = np.cumsum(Mask, axis=1)\n",
    "    \n",
    "    # 根据有效长度和Px计算每对个体的交叉位点(两个相等的交叉位点表示没有交叉)\n",
    "    xsites=np.zeros((Mask.shape[0],2), dtype=np.int32)\n",
    "    xsites[:,0]=Mask[:, Lind-1]\n",
    "    if Npt >=2:\n",
    "        xsites[:,0] = np.ceil(xsites[:,0]*np.random.rand(Xops))\n",
    "    xsites[:,1] = np.remainder((xsites[:,0] + \n",
    "                               np.ceil((Mask[:, Lind-1]-1) * np.random.rand(Xops)) * DoCross - 1) , Mask[:, Lind-1])+1\n",
    "    \n",
    "    # Express cross sites in terms of a 0-1 mask\n",
    "    Mask_finall = (xsites[:,np.zeros(Lind, dtype=np.int)]< Mask) == (xsites[:,np.ones(Lind, dtype=np.int)]< Mask)\n",
    "    \n",
    "    if 1-bool(Npt):\n",
    "        shuff = np.random.rand(Lind,Xops)\n",
    "        order = np.argsort(shuff, axis=0)\n",
    "        for i in range(Xops):\n",
    "            OldChrom[odd[i],:]=OldChrom[odd[i],order[:,i]]\n",
    "            OldChrom[even[i],:]=OldChrom[even[i],order[:,i]]\n",
    "            \n",
    "    # Perform crossover\n",
    "    NewChrom = np.zeros(OldChrom.shape, dtype=np.int64)\n",
    "    NewChrom[odd,:] = OldChrom[odd,:]* Mask_finall + OldChrom[even,:]*(1-Mask_finall)\n",
    "    NewChrom[even,:] = OldChrom[odd,:]*(1-Mask_finall) + OldChrom[even,:]*Mask_finall\n",
    "    \n",
    "    # If the number of individuals is odd, the last individual cannot be mated\n",
    "    # but must be included in the new population\n",
    "    if np.remainder(Nind,2):\n",
    "        NewChrom[Nind-1,:]=OldChrom[Nind-1,:]\n",
    "    \n",
    "    if 1-bool(Npt):\n",
    "        re_order = np.argsort(order, axis=0)\n",
    "        for i in range(Xops):\n",
    "            NewChrom[odd[i],:]=NewChrom[odd[i],re_order[:,i]]\n",
    "            NewChrom[even[i],:]=NewChrom[even[i],re_order[:,i]]\n",
    "    return NewChrom"
   ]
  },
  {
   "cell_type": "code",
   "execution_count": 38,
   "metadata": {
    "scrolled": false
   },
   "outputs": [
    {
     "data": {
      "text/plain": [
       "array([[0, 1, 0, 0, 1, 1, 0, 1, 1, 1],\n",
       "       [0, 1, 1, 0, 1, 0, 0, 0, 0, 0],\n",
       "       [0, 0, 1, 1, 0, 1, 0, 1, 1, 1],\n",
       "       [1, 0, 0, 0, 1, 1, 1, 1, 0, 1],\n",
       "       [0, 1, 1, 0, 0, 1, 0, 0, 1, 0]], dtype=int64)"
      ]
     },
     "execution_count": 38,
     "metadata": {},
     "output_type": "execute_result"
    }
   ],
   "source": [
    "OldChrom=ga.crtbp(5,10)\n",
    "OldChrom"
   ]
  },
  {
   "cell_type": "code",
   "execution_count": 39,
   "metadata": {
    "scrolled": true
   },
   "outputs": [
    {
     "data": {
      "text/plain": [
       "array([[0, 1, 0, 0, 1, 1, 0, 1, 1, 1],\n",
       "       [0, 1, 1, 0, 1, 0, 0, 0, 0, 0],\n",
       "       [0, 0, 1, 1, 0, 1, 1, 1, 0, 1],\n",
       "       [1, 0, 0, 0, 1, 1, 0, 1, 1, 1],\n",
       "       [0, 1, 1, 0, 0, 1, 0, 0, 1, 0]], dtype=int64)"
      ]
     },
     "execution_count": 39,
     "metadata": {},
     "output_type": "execute_result"
    }
   ],
   "source": [
    "ga.xovmp(OldChrom, 1, 3, 0)"
   ]
  },
  {
   "cell_type": "code",
   "execution_count": 40,
   "metadata": {
    "scrolled": true
   },
   "outputs": [
    {
     "data": {
      "text/plain": [
       "array([[0, 1, 0, 0, 1, 0, 0, 0, 0, 1],\n",
       "       [0, 1, 1, 0, 1, 1, 0, 1, 1, 0],\n",
       "       [0, 0, 0, 0, 1, 1, 1, 1, 1, 1],\n",
       "       [1, 0, 1, 1, 0, 1, 0, 1, 0, 1],\n",
       "       [0, 1, 1, 0, 0, 1, 0, 0, 1, 0]], dtype=int64)"
      ]
     },
     "execution_count": 40,
     "metadata": {},
     "output_type": "execute_result"
    }
   ],
   "source": [
    "xovmp(OldChrom, 1, 3, 0)"
   ]
  },
  {
   "cell_type": "markdown",
   "metadata": {},
   "source": [
    "### xovdp"
   ]
  },
  {
   "cell_type": "code",
   "execution_count": 41,
   "metadata": {},
   "outputs": [],
   "source": [
    "def xovdp(OldChrom, XOVR=None):\n",
    "    return xovmp(OldChrom, XOVR)"
   ]
  },
  {
   "cell_type": "code",
   "execution_count": 42,
   "metadata": {},
   "outputs": [
    {
     "data": {
      "text/plain": [
       "array([[0, 1, 1, 0, 1, 0, 0, 0, 1, 1],\n",
       "       [0, 1, 0, 0, 1, 1, 0, 1, 0, 0],\n",
       "       [0, 0, 1, 1, 1, 1, 0, 1, 0, 1],\n",
       "       [1, 0, 0, 0, 0, 1, 1, 1, 1, 1],\n",
       "       [0, 1, 1, 0, 0, 1, 0, 0, 1, 0]], dtype=int64)"
      ]
     },
     "execution_count": 42,
     "metadata": {},
     "output_type": "execute_result"
    }
   ],
   "source": [
    "NewChrom = xovdp(OldChrom, 1)\n",
    "NewChrom"
   ]
  },
  {
   "cell_type": "markdown",
   "metadata": {},
   "source": [
    "### recombin"
   ]
  },
  {
   "cell_type": "code",
   "execution_count": 43,
   "metadata": {},
   "outputs": [],
   "source": [
    "def recombin(REC_F, Chrom, RecOpt = 0.7, SUBPOP = 1):\n",
    "    Nind,Nvar = Chrom.shape\n",
    "    \n",
    "    # Select individuals of one subpopulation and call low level function\n",
    "    NewChrom = np.array([]).reshape(-1,Nvar)\n",
    "    for irun in range(SUBPOP):\n",
    "        ChromSub = Chrom[irun*Nind:(irun+1)*Nind,:]\n",
    "        NewChromSub = globals()[REC_F](ChromSub, RecOpt)\n",
    "        NewChrom = np.append(NewChrom, NewChromSub, axis = 0)\n",
    "    return NewChrom"
   ]
  },
  {
   "cell_type": "code",
   "execution_count": 44,
   "metadata": {},
   "outputs": [],
   "source": [
    "Chrom = np.array([\n",
    "[0,0,0,0,0,1,1,1],\n",
    "[1,0,0,0,1,0,0,1],\n",
    "[0,0,1,0,1,0,0,0],\n",
    "[1,1,0,1,1,0,1,1]]).astype('float')"
   ]
  },
  {
   "cell_type": "code",
   "execution_count": 45,
   "metadata": {},
   "outputs": [
    {
     "data": {
      "text/plain": [
       "array([[0., 0., 0., 0., 1., 0., 1., 1.],\n",
       "       [1., 0., 0., 0., 0., 1., 0., 1.],\n",
       "       [0., 0., 1., 0., 1., 0., 0., 0.],\n",
       "       [1., 1., 0., 1., 1., 0., 1., 1.]])"
      ]
     },
     "execution_count": 45,
     "metadata": {},
     "output_type": "execute_result"
    }
   ],
   "source": [
    "NewChrom = ga.recombin('xovdp', Chrom, 0.7, 2)\n",
    "NewChrom"
   ]
  },
  {
   "cell_type": "code",
   "execution_count": 46,
   "metadata": {
    "scrolled": false
   },
   "outputs": [
    {
     "data": {
      "text/plain": [
       "array([[0., 0., 0., 0., 0., 0., 1., 1.],\n",
       "       [1., 0., 0., 0., 1., 1., 0., 1.],\n",
       "       [1., 1., 1., 0., 1., 0., 0., 1.],\n",
       "       [0., 0., 0., 1., 1., 0., 1., 0.]])"
      ]
     },
     "execution_count": 46,
     "metadata": {},
     "output_type": "execute_result"
    }
   ],
   "source": [
    "recombin('xovdp', Chrom, 0.7, 2)"
   ]
  },
  {
   "cell_type": "markdown",
   "metadata": {},
   "source": [
    "### mutbga"
   ]
  },
  {
   "cell_type": "code",
   "execution_count": 47,
   "metadata": {},
   "outputs": [],
   "source": [
    "def mutbga(OldChrom, FieldDR, Pm = None, MutShrink = 1, Gradient = 20):\n",
    "    Nind,Nvar = OldChrom.shape\n",
    "    mF, nF = FieldDR.shape\n",
    "    \n",
    "    if Pm == None:\n",
    "        Pm = 0.7/Nind\n",
    "    \n",
    "    # the variables are mutated with probability MutR\n",
    "    # NewChrom = OldChrom (+ or -) * Range * MutShrink * Delta\n",
    "    # Range = 0.5 * (upperbound - lowerbound)\n",
    "    # Delta = Sum(Alpha_i * 2^-i) from 0 to ACCUR; Alpha_i = rand(ACCUR,1) < 1/ACCUR\n",
    "\n",
    "    # Matrix with range values for every variable\n",
    "    Range = rep(0.5 * MutShrink *(FieldDR[1,:]-FieldDR[0,:]).reshape(1,-1),[Nind,1])\n",
    "\n",
    "    # zeros and ones for mutate or not this variable, together with Range\n",
    "    Range = Range * (np.random.rand(Nind,Nvar) < Pm)\n",
    "\n",
    "    # compute, if + or - sign \n",
    "    Range = Range *(1 - 2 * (np.random.rand(Nind,Nvar) < 0.5))\n",
    "\n",
    "    # used for later computing, here only ones computed\n",
    "    ACCUR = Gradient\n",
    "    Vect = np.array([2**(-x) for x in range(ACCUR)])\n",
    "    Delta = (np.random.rand(Nind,ACCUR) < 1/ACCUR).dot(Vect)\n",
    "    Delta = rep(Delta.reshape(-1,1), [1, Nvar])\n",
    "\n",
    "    # perform mutation \n",
    "    NewChrom = OldChrom + Range * Delta\n",
    "\n",
    "    # Ensure variables boundaries, compare with lower and upper boundaries\n",
    "    np.clip(NewChrom, rep(FieldDR[0,:].reshape(1,-1),[Nind,1]), rep(FieldDR[1,:].reshape(1,-1),[Nind,1]), NewChrom)\n",
    "        \n",
    "    return NewChrom"
   ]
  },
  {
   "cell_type": "code",
   "execution_count": 48,
   "metadata": {},
   "outputs": [],
   "source": [
    "FieldDR = np.array([[8,7],\n",
    "                    [10,10]])\n",
    "OldChrom = crtrp(3, FieldDR)\n",
    "Pm = 0.7/3\n",
    "MutShrink = 1\n",
    "Gradient = 20"
   ]
  },
  {
   "cell_type": "code",
   "execution_count": 49,
   "metadata": {},
   "outputs": [
    {
     "data": {
      "text/plain": [
       "array([[False,  True],\n",
       "       [ True,  True],\n",
       "       [ True,  True]])"
      ]
     },
     "execution_count": 49,
     "metadata": {},
     "output_type": "execute_result"
    }
   ],
   "source": [
    "ga.mutbga(OldChrom, FieldDR)==OldChrom"
   ]
  },
  {
   "cell_type": "code",
   "execution_count": 50,
   "metadata": {},
   "outputs": [
    {
     "data": {
      "text/plain": [
       "array([[ True,  True],\n",
       "       [False,  True],\n",
       "       [ True,  True]])"
      ]
     },
     "execution_count": 50,
     "metadata": {},
     "output_type": "execute_result"
    }
   ],
   "source": [
    "mutbga(OldChrom, FieldDR)==OldChrom"
   ]
  },
  {
   "cell_type": "markdown",
   "metadata": {},
   "source": [
    "### mutint"
   ]
  },
  {
   "cell_type": "code",
   "execution_count": 75,
   "metadata": {},
   "outputs": [],
   "source": [
    "def mutint(OldChrom, FieldDR, Pm = None, params3 = None, params4 = None):\n",
    "    Nind,Nvar = OldChrom.shape\n",
    "    mF, nF = FieldDR.shape\n",
    "    \n",
    "    if Pm == None:\n",
    "        Pm = 0.7/Nind\n",
    "        \n",
    "    # Matrix with range values for every variable\n",
    "    Range = rep(0.5 *(FieldDR[1,:]-FieldDR[0,:]).reshape(1,-1),[Nind,1])\n",
    "\n",
    "    # zeros and ones for mutate or not this variable, together with Range\n",
    "    Range = Range * (np.random.rand(Nind,Nvar) < Pm)\n",
    "    \n",
    "    # compute, if + or - sign \n",
    "    Range = Range *(1 - 2 * (np.random.rand(Nind,Nvar) < 0.5))\n",
    "    \n",
    "    # perform mutation \n",
    "    NewChrom = OldChrom + Range\n",
    "\n",
    "    # Ensure variables boundaries, compare with lower and upper boundaries\n",
    "    np.clip(np.round(NewChrom), rep(FieldDR[0,:].reshape(1,-1),[Nind,1]), rep(FieldDR[1,:].reshape(1,-1),[Nind,1]), NewChrom)\n",
    "    \n",
    "    return NewChrom"
   ]
  },
  {
   "cell_type": "code",
   "execution_count": 52,
   "metadata": {},
   "outputs": [
    {
     "data": {
      "text/plain": [
       "(array([[-2,  1,  0,  3],\n",
       "        [ 1,  2,  0,  4],\n",
       "        [ 1,  2, -2,  3],\n",
       "        [ 3,  1,  1,  3]]), array([[-2., -1.,  0.,  3.],\n",
       "        [ 1.,  2.,  0.,  4.],\n",
       "        [ 1.,  2., -2.,  3.],\n",
       "        [ 3.,  1.,  1.,  3.]]), array([[-2,  1,  0,  4],\n",
       "        [ 1,  2,  0,  4],\n",
       "        [ 1,  2, -2,  3],\n",
       "        [ 3,  1,  1,  3]], dtype=int64))"
      ]
     },
     "execution_count": 52,
     "metadata": {},
     "output_type": "execute_result"
    }
   ],
   "source": [
    "Chrom=np.array([\n",
    "[-2, 1, 0, 3],\n",
    "[ 1, 2, 0, 4],\n",
    "[ 1, 2, -2, 3],\n",
    "[ 3, 1, 1, 3]])\n",
    "FieldDR=np.array([\n",
    "[-3, -1, -3, 3],\n",
    "[4, 3, 2, 4]])\n",
    "Chrom, mutint(Chrom, FieldDR, 0.1), ga.mutint(Chrom, FieldDR, 0.1)"
   ]
  },
  {
   "cell_type": "code",
   "execution_count": 53,
   "metadata": {},
   "outputs": [
    {
     "data": {
      "text/plain": [
       "(array([[False,  True,  True,  True],\n",
       "        [ True,  True,  True,  True],\n",
       "        [ True,  True,  True,  True],\n",
       "        [ True,  True,  True,  True]]), array([[ True, False,  True,  True],\n",
       "        [ True, False,  True,  True],\n",
       "        [ True,  True,  True, False],\n",
       "        [ True,  True,  True,  True]]))"
      ]
     },
     "execution_count": 53,
     "metadata": {},
     "output_type": "execute_result"
    }
   ],
   "source": [
    "Chrom==mutint(Chrom, FieldDR, 0.1), Chrom==ga.mutint(Chrom, FieldDR, 0.1)"
   ]
  },
  {
   "cell_type": "markdown",
   "metadata": {},
   "source": [
    "### mutbin"
   ]
  },
  {
   "cell_type": "code",
   "execution_count": 80,
   "metadata": {},
   "outputs": [],
   "source": [
    "def mutbin(OldChrom, Pm = None, params3 = None, params4 = None):\n",
    "    Nind,Nvar = OldChrom.shape\n",
    "    FieldDR = np.array([[0]*Nvar,[1]*Nvar])\n",
    "    \n",
    "    NewChrom = mutint(OldChrom, FieldDR, Pm)\n",
    "    \n",
    "    return NewChrom.astype(np.int64)"
   ]
  },
  {
   "cell_type": "code",
   "execution_count": 81,
   "metadata": {
    "scrolled": true
   },
   "outputs": [
    {
     "data": {
      "text/plain": [
       "array([[1, 0, 0, 1],\n",
       "       [0, 0, 1, 1],\n",
       "       [0, 0, 1, 0]], dtype=int64)"
      ]
     },
     "execution_count": 81,
     "metadata": {},
     "output_type": "execute_result"
    }
   ],
   "source": [
    "OldChrom = np.array([\n",
    "[1, 0, 0, 1],\n",
    "[0, 0, 1, 1],\n",
    "[0, 0, 1, 0]])\n",
    "NewChrom = mutbin(OldChrom, 0.1)\n",
    "NewChrom"
   ]
  },
  {
   "cell_type": "code",
   "execution_count": 82,
   "metadata": {},
   "outputs": [
    {
     "data": {
      "text/plain": [
       "array([[1, 0, 0, 1],\n",
       "       [0, 0, 1, 1],\n",
       "       [0, 0, 1, 0]], dtype=int64)"
      ]
     },
     "execution_count": 82,
     "metadata": {},
     "output_type": "execute_result"
    }
   ],
   "source": [
    "ga.mutbin(OldChrom, 0.1)"
   ]
  },
  {
   "cell_type": "markdown",
   "metadata": {},
   "source": [
    "### ranking"
   ]
  },
  {
   "cell_type": "code",
   "execution_count": 83,
   "metadata": {},
   "outputs": [],
   "source": [
    "def ranking(ObjV, LegV, RFun = None, SUBPOP = 1):\n",
    "    if ObjV.shape != LegV.shape:\n",
    "        raise ValueError('The ObjV and LegV should be match.')\n",
    "        \n",
    "    for i, o in enumerate(ObjV):\n",
    "        if o == None or o == np.nan:\n",
    "            LegV[i] = 0\n",
    "        \n",
    "    Nind,ans = ObjV.shape\n",
    "    \n",
    "    if RFun is None:\n",
    "        RFun = np.array([[2]], dtype=np.int)\n",
    "        \n",
    "    if RFun.shape == (1,1):\n",
    "        RFun_ = RFun[0][0]\n",
    "        NonLin = 0\n",
    "    elif RFun.shape == (1,2):\n",
    "        RFun_ = RFun[0][0]\n",
    "        NonLin = RFun[0][1]\n",
    "    elif RFun.shape[0] == Nind:\n",
    "        RFun_ = RFun\n",
    "    else:\n",
    "        raise ValueError('RFun disagree')\n",
    "        \n",
    "    if type(SUBPOP) != int:\n",
    "        raise ValueError('SUBPOP must be a scalar')\n",
    "     \n",
    "    if Nind%SUBPOP == 0:\n",
    "        Nind_ = int(Nind/SUBPOP)\n",
    "    else:\n",
    "        raise ValueError('ObjV and SUBPOP disagree')\n",
    "\n",
    "    if RFun_ is not np.ndarray:\n",
    "        if NonLin == 0:\n",
    "             # linear ranking with SP between 1 and 2\n",
    "            if RFun_ < 1 or RFun_ > 2:\n",
    "                raise ValueError('Selective pressure for linear ranking must be between 1 and 2');\n",
    "            else:\n",
    "                RFun_ = 2-RFun_ + 2*(RFun_-1)*np.arange(0,Nind_)/(Nind_-1)\n",
    "        elif NonLin == 1:\n",
    "            if RFun_ < 1:\n",
    "                raise ValueError('Selective pressure must be greater than 1')\n",
    "            elif RFun_ > Nind-2:\n",
    "                raise ValueError('Selective pressure too big')\n",
    "            else:\n",
    "\n",
    "                Root1 = np.roots(np.array([RFun_-Nind_]+ [RFun_]*(Nind_-1)))\n",
    "                RFun_ = np.power(abs(Root1[0])*np.ones(Nind_),np.arange(0,Nind_))\n",
    "                RFun_ = RFun_ / sum(RFun_) * Nind_\n",
    "    \n",
    "    FitnV = []\n",
    "    # loop over all subpopulations\n",
    "    for irun in range(SUBPOP):\n",
    "        # Copy objective values of actual subpopulation\n",
    "        ObjVSub = ObjV[irun*Nind_:(irun+1)*Nind_].reshape(-1)\n",
    "        # Sort does not handle NaN values as required. So, find those...\n",
    "        NaNix = np.isnan(ObjVSub.astype(float))\n",
    "        Validix = 1-NaNix\n",
    "        # ... and sort only numeric values (smaller is better).\n",
    "        ix = np.argsort(np.argsort(-ObjVSub[np.where(Validix == 1)[0]]))\n",
    "        \n",
    "        # Now build indexing vector assuming NaN are worse than numbers,\n",
    "        # (including Inf!)...\n",
    "        ix = np.append(np.where(Validix == 0)[0], ix)\n",
    "        # Add FitnVSub to FitnV\n",
    "        FitnV = np.append(FitnV, RFun_[ix])\n",
    "    return FitnV.reshape(-1,1)"
   ]
  },
  {
   "cell_type": "code",
   "execution_count": 55,
   "metadata": {},
   "outputs": [],
   "source": [
    "RFun_ = 2 \n",
    "Nind_ = 10\n",
    "ObjV=np.array([[ 1],[ 2],[ 3],[ 4],[ 5],[10],[ 9],[ 8],[ 7],[ 6]])\n",
    "LegV=np.array([[ 1],[ 1],[ 1],[ 1],[ 1],[ 1],[ 1],[ 1],[ 1],[ 1]])"
   ]
  },
  {
   "cell_type": "code",
   "execution_count": 56,
   "metadata": {},
   "outputs": [
    {
     "data": {
      "text/plain": [
       "array([[2.        ],\n",
       "       [1.77777778],\n",
       "       [1.55555556],\n",
       "       [1.33333333],\n",
       "       [1.11111111],\n",
       "       [0.        ],\n",
       "       [0.22222222],\n",
       "       [0.44444444],\n",
       "       [0.66666667],\n",
       "       [0.88888889]])"
      ]
     },
     "execution_count": 56,
     "metadata": {},
     "output_type": "execute_result"
    }
   ],
   "source": [
    "RFun = np.array([[2,0]])\n",
    "ObjV=np.array([[ 1],[ 2],[ 3],[ 4],[ 5],[10],[ 9],[ 8],[ 7],[ 6]])\n",
    "LegV=np.array([[ 1],[ 1],[ 1],[ 1],[ 1],[ 1],[ 1],[ 1],[ 1],[ 1]])\n",
    "FitnV = ga.ranking(ObjV, LegV, RFun, 1)\n",
    "FitnV"
   ]
  },
  {
   "cell_type": "code",
   "execution_count": 59,
   "metadata": {},
   "outputs": [
    {
     "data": {
      "text/plain": [
       "array([[2. ],\n",
       "       [1.5],\n",
       "       [1. ],\n",
       "       [0.5],\n",
       "       [0. ],\n",
       "       [0. ],\n",
       "       [0.5],\n",
       "       [1. ],\n",
       "       [1.5],\n",
       "       [2. ]])"
      ]
     },
     "execution_count": 59,
     "metadata": {},
     "output_type": "execute_result"
    }
   ],
   "source": [
    "RFun = np.array([[2,0]])\n",
    "ObjV=np.array([[ 1],[ 2],[ 3],[ 4],[ 5],[10],[ 9],[ 8],[ 7],[ 6]])\n",
    "LegV=np.array([[ 1],[ 1],[ 1],[ 1],[ 1],[ 1],[ 1],[ 1],[ 1],[ 1]])\n",
    "FitnV = ranking(ObjV, LegV, RFun, 2)\n",
    "FitnV"
   ]
  },
  {
   "cell_type": "markdown",
   "metadata": {},
   "source": [
    "### sus"
   ]
  },
  {
   "cell_type": "code",
   "execution_count": 60,
   "metadata": {},
   "outputs": [],
   "source": [
    "def sus(FitnV, Nsel):\n",
    "    Nind,ans = FitnV.shape\n",
    "    cumfit = np.cumsum(FitnV)\n",
    "    trials = cumfit[Nind-1] / Nsel* np.random.rand()+np.arange(Nsel)\n",
    "    Mf = rep(cumfit.reshape(-1,1),[1, Nsel])\n",
    "    Mt = rep(trials.reshape(1,-1),[Nind, 1])\n",
    "    ChIndex = np.sum((Mt < Mf ) & (np.append(np.zeros((1, Nsel)), Mf[0:Nind-1, :], axis=0)<= Mt), axis=1)\n",
    "    NewChrIx = []\n",
    "    for i, c in enumerate(ChIndex):\n",
    "        while c > 0:\n",
    "            NewChrIx.append(i)\n",
    "            c -= 1\n",
    "    NewChrIx = np.array(NewChrIx, dtype=np.int64)\n",
    "    np.random.shuffle(NewChrIx)\n",
    "    return NewChrIx"
   ]
  },
  {
   "cell_type": "code",
   "execution_count": 61,
   "metadata": {},
   "outputs": [],
   "source": [
    "Nsel = 6"
   ]
  },
  {
   "cell_type": "code",
   "execution_count": 62,
   "metadata": {},
   "outputs": [
    {
     "data": {
      "text/plain": [
       "(array([0, 0, 1, 9, 8, 6], dtype=int64),\n",
       " array([3, 8, 1, 0, 2, 7], dtype=int64))"
      ]
     },
     "execution_count": 62,
     "metadata": {},
     "output_type": "execute_result"
    }
   ],
   "source": [
    "ga.sus(FitnV,6),sus(FitnV,6)"
   ]
  },
  {
   "cell_type": "markdown",
   "metadata": {},
   "source": [
    "### rws"
   ]
  },
  {
   "cell_type": "code",
   "execution_count": 63,
   "metadata": {},
   "outputs": [],
   "source": [
    "def rws(FitnV, Nsel):\n",
    "    Nind,ans = FitnV.shape\n",
    "    cumfit = np.cumsum(FitnV)\n",
    "    trials = cumfit[Nind-1] * np.random.rand(Nsel)\n",
    "    Mf = rep(cumfit.reshape(-1,1),[1, Nsel])\n",
    "    Mt = rep(trials.reshape(1,-1),[Nind, 1])\n",
    "    ChIndex = np.sum((Mt < Mf ) & (np.append(np.zeros((1, Nsel)), Mf[0:Nind-1, :], axis=0)<= Mt), axis=1)\n",
    "    NewChrIx = []\n",
    "    for i, c in enumerate(ChIndex):\n",
    "        while c > 0:\n",
    "            NewChrIx.append(i)\n",
    "            c -= 1\n",
    "    NewChrIx = np.array(NewChrIx, dtype=np.int64)\n",
    "    return NewChrIx"
   ]
  },
  {
   "cell_type": "code",
   "execution_count": 64,
   "metadata": {},
   "outputs": [
    {
     "data": {
      "text/plain": [
       "(array([9, 9, 8, 8, 9, 6], dtype=int64),\n",
       " array([0, 8, 9, 9, 9, 9], dtype=int64))"
      ]
     },
     "execution_count": 64,
     "metadata": {},
     "output_type": "execute_result"
    }
   ],
   "source": [
    "ga.rws(FitnV,6),rws(FitnV,6)"
   ]
  },
  {
   "cell_type": "markdown",
   "metadata": {},
   "source": [
    "### tour"
   ]
  },
  {
   "cell_type": "code",
   "execution_count": 65,
   "metadata": {},
   "outputs": [],
   "source": [
    "def tour(FitnV, Nsel):\n",
    "    Nind,ans = FitnV.shape\n",
    "    tour = int(np.ceil(FitnV.max()))\n",
    "    if tour > Nind:\n",
    "        tour = int(np.ceil(FitnV.mean()))\n",
    "    \n",
    "    if tour > Nind:\n",
    "        tour = 2\n",
    "    \n",
    "    NewChrIx = []\n",
    "    for i in range(Nsel):\n",
    "        FitnV_ = np.random.choice(FitnV.reshape(-1), tour, replace=True)\n",
    "        ChrIx = np.where(FitnV.reshape(-1) == FitnV_.max())[0][0]\n",
    "        NewChrIx.append(ChrIx)\n",
    "    return np.array(NewChrIx, dtype=np.int)"
   ]
  },
  {
   "cell_type": "code",
   "execution_count": 66,
   "metadata": {},
   "outputs": [
    {
     "data": {
      "text/plain": [
       "(array([2, 2, 0, 9, 4, 6]), array([1, 1, 2, 1, 1, 0]))"
      ]
     },
     "execution_count": 66,
     "metadata": {},
     "output_type": "execute_result"
    }
   ],
   "source": [
    "ga.tour(FitnV,6), tour(FitnV,6)"
   ]
  },
  {
   "cell_type": "markdown",
   "metadata": {},
   "source": [
    "### etour"
   ]
  },
  {
   "cell_type": "code",
   "execution_count": 67,
   "metadata": {},
   "outputs": [],
   "source": [
    "def etour(FitnV, Nsel):\n",
    "    Nind, ans = FitnV.shape\n",
    "    tour = int(np.ceil(FitnV.max()))\n",
    "    if tour > Nind:\n",
    "        tour = int(np.ceil(FitnV.mean()))\n",
    "    \n",
    "    if tour > Nind:\n",
    "        tour = 2\n",
    "    \n",
    "    NewChrIx = [np.where(FitnV.reshape(-1) == FitnV.max())[0][0]]\n",
    "    for i in range(Nsel-1):\n",
    "        FitnV_ = np.random.choice(FitnV.reshape(-1), tour, replace=True)\n",
    "        ChrIx = np.where(FitnV.reshape(-1) == FitnV_.max())[0][0]\n",
    "        NewChrIx.append(ChrIx)\n",
    "    NewChrIx = np.array(NewChrIx, dtype=np.int)\n",
    "    np.random.shuffle(NewChrIx)\n",
    "    return NewChrIx"
   ]
  },
  {
   "cell_type": "code",
   "execution_count": 68,
   "metadata": {},
   "outputs": [
    {
     "data": {
      "text/plain": [
       "array([0, 3, 1, 3, 2, 0])"
      ]
     },
     "execution_count": 68,
     "metadata": {},
     "output_type": "execute_result"
    }
   ],
   "source": [
    "etour(FitnV,6)"
   ]
  },
  {
   "cell_type": "code",
   "execution_count": 69,
   "metadata": {},
   "outputs": [
    {
     "data": {
      "text/plain": [
       "array([0, 1, 8, 2, 1, 1])"
      ]
     },
     "execution_count": 69,
     "metadata": {},
     "output_type": "execute_result"
    }
   ],
   "source": [
    "ga.etour(FitnV,6)"
   ]
  },
  {
   "cell_type": "markdown",
   "metadata": {},
   "source": [
    "### selecting"
   ]
  },
  {
   "cell_type": "code",
   "execution_count": 70,
   "metadata": {},
   "outputs": [],
   "source": [
    "def selecting(SEL_F, Chrom, FitnV, GGAP = 1.0, SUBPOP =1 , ObjV = None, LegV = None):\n",
    "    # Identify the population size (Nind)\n",
    "    NindCh,Nvar = Chrom.shape\n",
    "    NindF,VarF = FitnV.shape\n",
    "    \n",
    "    if NindCh != NindF:\n",
    "        raise ValueError('Chrom and FitnV disagree')\n",
    "        \n",
    "    if VarF != 1:\n",
    "        raise ValueError('FitnV must be a column vector')\n",
    "        \n",
    "    if NindCh%SUBPOP == 0:\n",
    "        Nind_ = int(NindCh/SUBPOP)\n",
    "    else:\n",
    "        raise ValueError('ObjV and SUBPOP disagree')\n",
    "        \n",
    "    # Compute number of new individuals (to select)\n",
    "    NSel=int(max(np.floor(Nind_*GGAP+.5),2))\n",
    "\n",
    "    # Select individuals from population\n",
    "    SelCh = np.array([]).reshape(-1,Nvar)\n",
    "    ChrIx = np.array([], dtype=np.int)\n",
    "    for irun in range(SUBPOP):\n",
    "        FitnVSub = FitnV[irun*Nind_:(irun+1)*Nind_]\n",
    "        ChrIx_=globals()[SEL_F](FitnVSub, NSel)+irun*Nind_\n",
    "        SelCh=np.append(SelCh,Chrom[ChrIx_,:], axis = 0)\n",
    "        ChrIx=np.append(ChrIx,ChrIx_)\n",
    "    if ObjV is None and LegV is None:\n",
    "        return SelCh\n",
    "    elif ObjV is not None and LegV is None:\n",
    "        return SelCh, ObjV[ChrIx]\n",
    "    elif ObjV is not None and LegV is not None:\n",
    "        return SelCh, ObjV[ChrIx], LegV[ChrIx]"
   ]
  },
  {
   "cell_type": "code",
   "execution_count": 72,
   "metadata": {},
   "outputs": [],
   "source": [
    "Chrom=np.array([[1,11,21],\n",
    "[2,12,22],\n",
    "[3,13,23],\n",
    "[2,12,22],\n",
    "[3,13,23],\n",
    "[4,14,24],\n",
    "[5,15,25],\n",
    "[6,16,26],\n",
    "[7,17,27],\n",
    "[8,18,28]])\n",
    "\n",
    "GGAP = 0.7\n",
    "Nind_ = 5\n",
    "irun = 1\n",
    "SEL_F = 'sus'"
   ]
  },
  {
   "cell_type": "code",
   "execution_count": 73,
   "metadata": {
    "scrolled": true
   },
   "outputs": [
    {
     "data": {
      "text/plain": [
       "(array([[ 8, 18, 28],\n",
       "        [ 8, 18, 28],\n",
       "        [ 3, 13, 23],\n",
       "        [ 6, 16, 26],\n",
       "        [ 7, 17, 27],\n",
       "        [ 2, 12, 22],\n",
       "        [ 1, 11, 21]], dtype=int64), array([[ 1., 11., 21.],\n",
       "        [ 2., 12., 22.],\n",
       "        [ 1., 11., 21.]]))"
      ]
     },
     "execution_count": 73,
     "metadata": {},
     "output_type": "execute_result"
    }
   ],
   "source": [
    "ga.selecting('sus',Chrom,FitnV, GGAP),selecting('sus',Chrom,FitnV, GGAP)"
   ]
  },
  {
   "cell_type": "code",
   "execution_count": 74,
   "metadata": {},
   "outputs": [
    {
     "data": {
      "text/plain": [
       "(array([[ 1., 11., 21.],\n",
       "        [ 1., 11., 21.],\n",
       "        [ 2., 12., 22.]]), array([[2. ],\n",
       "        [2. ],\n",
       "        [1.5]]))"
      ]
     },
     "execution_count": 74,
     "metadata": {},
     "output_type": "execute_result"
    }
   ],
   "source": [
    "selecting('sus',Chrom, FitnV, GGAP,ObjV =FitnV)"
   ]
  },
  {
   "cell_type": "markdown",
   "metadata": {},
   "source": [
    "### bs2rv"
   ]
  },
  {
   "cell_type": "code",
   "execution_count": 75,
   "metadata": {},
   "outputs": [],
   "source": [
    "def bs2rv(Chrom, FieldD):\n",
    "    Chrom = Chrom.copy()\n",
    "    FieldD = FieldD.copy()\n",
    "    Nind,Lind = Chrom.shape\n",
    "    seven,Nvar = FieldD.shape\n",
    "\n",
    "    if seven != 7:\n",
    "        raise ValueError('FieldD must have 7 rows.')\n",
    "\n",
    "    # Get substring properties\n",
    "    length = FieldD[0,:]\n",
    "    lb = FieldD[1,:].astype(float)\n",
    "    ub = FieldD[2,:].astype(float)\n",
    "    code = FieldD[3,:].astype(bool)\n",
    "    scale = FieldD[4,:].astype(bool)\n",
    "    lin = FieldD[5,:].astype(float)\n",
    "    uin = FieldD[6,:].astype(float)\n",
    "\n",
    "\n",
    "    # Check substring properties for consistency\n",
    "    if sum(length) != Lind:\n",
    "        raise ValueError('Data in FieldD must agree with chromosome length')\n",
    "\n",
    "    if 1-(lb[scale]*ub[scale]>0).all():\n",
    "        raise ValueError('Log-scaled variables must not include 0 in their range')  \n",
    "    \n",
    "    # Decode chromosomes\n",
    "    Phen = np.zeros((Nind,Nvar))\n",
    "    \n",
    "    lf = np.cumsum(length)-1\n",
    "    li = np.cumsum(np.array([0]+ list(length)))\n",
    "    Prec = 0.5** length\n",
    "\n",
    "    logsgn = np.sign(lb[scale])\n",
    "    lb[scale] = np.log(abs(lb[scale]))\n",
    "    ub[scale] = np.log(abs(ub[scale]))\n",
    "    delta = ub - lb\n",
    "\n",
    "    num =  (1-lin) * Prec\n",
    "    den = (lin + uin - 1) * Prec\n",
    "\n",
    "    for i in range(Nvar):\n",
    "        idx = np.arange(li[i],lf[i]+1)\n",
    "        if code[i]: # Gray decoding\n",
    "            Chrom[:,idx]=np.remainder(np.cumsum(Chrom[:,idx].T, axis=0).T,2)\n",
    "        Phen[:,i:i+1] = np.dot(Chrom[:,idx] , ((.5)**np.arange(1,length[i]+1).reshape(-1,1)))\n",
    "        Phen[:,i] = lb[i] + np.dot(delta[i] , (Phen[:,i] + num[i]) / (1 - den[i]))               \n",
    "                     \n",
    "    expand = np.zeros(Nind, dtype=np.int)\n",
    "    if scale.any():\n",
    "        Phen[:,scale] = logsgn[expand].reshape(-1,1) * np.exp(Phen[:,scale])                 \n",
    "    return Phen"
   ]
  },
  {
   "cell_type": "code",
   "execution_count": 76,
   "metadata": {},
   "outputs": [],
   "source": [
    "Chrom = np.array([\n",
    "[1,0,0,0,0,0],\n",
    "[0,0,0,1,1,1],\n",
    "[0,1,0,0,0,1],\n",
    "])\n",
    "\n",
    "FieldD = np.array([[3,3], [2,2], [10,10], [0,0], [0,1], [1,1], [1,1]])"
   ]
  },
  {
   "cell_type": "code",
   "execution_count": 77,
   "metadata": {},
   "outputs": [
    {
     "name": "stdout",
     "output_type": "stream",
     "text": [
      "[[ 6.57142857  2.        ]\n",
      " [ 2.         10.        ]\n",
      " [ 4.28571429  2.5169979 ]]\n",
      "[[ 6.57142857  2.        ]\n",
      " [ 2.         10.        ]\n",
      " [ 4.28571429  2.5169979 ]]\n"
     ]
    }
   ],
   "source": [
    "print(ga.bs2rv(Chrom, FieldD))\n",
    "print(bs2rv(Chrom, FieldD))"
   ]
  },
  {
   "cell_type": "markdown",
   "metadata": {},
   "source": [
    "### bs2int"
   ]
  },
  {
   "cell_type": "code",
   "execution_count": 78,
   "metadata": {},
   "outputs": [],
   "source": [
    "def bs2int(Chrom, FieldD):\n",
    "    FieldD_ =  FieldD.copy()\n",
    "    FieldD_[4,:] = np.array([0, 0])\n",
    "    FieldD_[5,:] = np.array([1, 1])\n",
    "    FieldD_[6,:] = np.array([1, 1])\n",
    "    \n",
    "    Phen = bs2rv(Chrom, FieldD_)\n",
    "    \n",
    "    return np.fix(Phen).astype(np.int64)"
   ]
  },
  {
   "cell_type": "code",
   "execution_count": 79,
   "metadata": {},
   "outputs": [],
   "source": [
    "Chrom = np.array([\n",
    "[1,0,0,0,1],\n",
    "[0,1,0,0,0],\n",
    "[0,0,1,1,0],\n",
    "])\n",
    "\n",
    "FieldD = np.array([[2,3], [-4,-2], [2,7], [1,1], [1,1], [1,1], [1,1]])"
   ]
  },
  {
   "cell_type": "code",
   "execution_count": 81,
   "metadata": {},
   "outputs": [],
   "source": [
    "FieldD_ =  FieldD.copy()\n",
    "FieldD_[4,:] = np.array([0, 0])\n",
    "FieldD_[5,:] = np.array([1, 1])\n",
    "FieldD_[6,:] = np.array([1, 1])\n",
    "    "
   ]
  },
  {
   "cell_type": "code",
   "execution_count": 82,
   "metadata": {},
   "outputs": [
    {
     "name": "stdout",
     "output_type": "stream",
     "text": [
      "[[ 2.         -0.71428571]\n",
      " [-2.         -2.        ]\n",
      " [-4.          3.14285714]]\n",
      "[[ 2.         -0.71428571]\n",
      " [-2.         -2.        ]\n",
      " [-4.          3.14285714]]\n"
     ]
    }
   ],
   "source": [
    "print(ga.bs2rv(Chrom, FieldD_))\n",
    "print(bs2rv(Chrom, FieldD_))"
   ]
  },
  {
   "cell_type": "code",
   "execution_count": 83,
   "metadata": {},
   "outputs": [
    {
     "data": {
      "text/plain": [
       "array([[ 2, -1],\n",
       "       [-2, -2],\n",
       "       [-4,  3]], dtype=int64)"
      ]
     },
     "execution_count": 83,
     "metadata": {},
     "output_type": "execute_result"
    }
   ],
   "source": [
    "ga.bs2int(Chrom, FieldD)"
   ]
  },
  {
   "cell_type": "code",
   "execution_count": 84,
   "metadata": {},
   "outputs": [
    {
     "data": {
      "text/plain": [
       "array([[ 2,  0],\n",
       "       [-2, -2],\n",
       "       [-4,  3]], dtype=int64)"
      ]
     },
     "execution_count": 84,
     "metadata": {},
     "output_type": "execute_result"
    }
   ],
   "source": [
    "bs2int(Chrom, FieldD)"
   ]
  },
  {
   "cell_type": "markdown",
   "metadata": {},
   "source": [
    "### trcplot"
   ]
  },
  {
   "cell_type": "code",
   "execution_count": 148,
   "metadata": {},
   "outputs": [],
   "source": [
    "import matplotlib.pyplot as plt\n",
    "\n",
    "def trcplot(pop_trace, labels, titles = None, save_path = None):\n",
    "    l = len(pop_trace)\n",
    "    t = np.arange(l)\n",
    "    index = 0\n",
    "    for i, l_i in enumerate(labels):\n",
    "        plt.figure()\n",
    "        plt.xlabel('代数')\n",
    "        plt.grid(True)\n",
    "        for l_j in l_i:\n",
    "            plt.plot(t, pop_trace[:,index:index+1], label=l_j)\n",
    "            index += 1\n",
    "        plt.legend()\n",
    "        if titles is not None:\n",
    "            plt.title(titles[i])\n",
    "    if save_path is not None:\n",
    "        plt.savefig(save_path)\n",
    "    plt.show()"
   ]
  },
  {
   "cell_type": "code",
   "execution_count": 87,
   "metadata": {},
   "outputs": [],
   "source": [
    "# -*- coding: utf-8 -*-\n",
    "\n",
    "import numpy as np\n",
    "import geatpy as ga\n",
    "import time\n",
    "import sys\n",
    "\n",
    "def sga_new_code_templet(aimfunc, punfunc, FieldD, problem, maxormin, MAXGEN, NIND, SUBPOP, GGAP, selectStyle, recombinStyle, recopt, pm, distribute, drawing = 1):\n",
    "    \"\"\"==========================初始化配置===========================\"\"\"\n",
    "    GGAP = 0.5 # 因为父子合并后选择，因此要将代沟设为0.5以维持种群规模\n",
    "    # 获取目标函数和罚函数\n",
    "    aimfuc = aimfunc # 获得目标函数\n",
    "    if punfunc is not None:\n",
    "        punishing = punfunc # 获得罚函数\n",
    "    NVAR = FieldD.shape[1] # 得到控制变量的个数\n",
    "    # 定义进化记录器，初始值为nan\n",
    "    pop_trace = (np.zeros((MAXGEN ,2)) * np.nan)\n",
    "    # 定义变量记录器，记录控制变量值，初始值为nan\n",
    "    var_trace = (np.zeros((MAXGEN ,NVAR)) * np.nan) \n",
    "    ax = None # 存储上一帧图形\n",
    "    \"\"\"=========================开始遗传算法进化=======================\"\"\"\n",
    "    Lind = np.sum(FieldD[0, :]) # 种群染色体长度\n",
    "    Chrom = ga.crtbp(NIND, Lind) # 生成初始种    \n",
    "#     print(Chrom.shape,Lind)\n",
    "    LegV = np.ones((NIND, 1)) # 生成可行性列向量，元素为1表示对应个体是可行解，0表示非可行解\n",
    "    # 初代种群的解码\n",
    "    if problem == 'R':\n",
    "        variable = ga.bs2rv(Chrom, FieldD) # 解码\n",
    "#         print(variable)\n",
    "    elif problem == 'I':\n",
    "        if np.any(FieldD >= sys.maxsize):\n",
    "            variable = ga.bs2int(Chrom, FieldD).astype('object') # 解码\n",
    "        else:\n",
    "            variable = ga.bs2int(Chrom, FieldD).astype('int64')\n",
    "    [ObjV, LegV] = aimfuc(variable, LegV) # 求初代种群的目标函数值\n",
    "    start_time = time.time() # 开始计时\n",
    "    gen = 0\n",
    "    badCounter = 0 # 用于记录在“遗忘策略下”被忽略的代数\n",
    "    # 开始进化！！\n",
    "    start_time = time.time() # 开始计时\n",
    "    while gen < MAXGEN:\n",
    "        if badCounter >= 10 * MAXGEN: # 若多花了10倍的迭代次数仍没有可行解出现，则跳出\n",
    "            break\n",
    "        # 进行遗传算子产生子代\n",
    "        SelCh=ga.recombin(recombinStyle, Chrom, recopt, SUBPOP) # 重组\n",
    "        SelCh=ga.mutbin(SelCh,pm) # 变异\n",
    "        # 育种种群的解码\n",
    "        if problem == 'R':\n",
    "            variable = ga.bs2rv(SelCh, FieldD) # 解码\n",
    "        elif problem == 'I':\n",
    "            if np.any(FieldD >= sys.maxsize):\n",
    "                variable = ga.bs2int(SelCh, FieldD).astype('object') # 解码\n",
    "            else:\n",
    "                variable = ga.bs2int(SelCh, FieldD).astype('int64')\n",
    "        LegVSel = np.ones((SelCh.shape[0], 1)) # 初始化育种种群的可行性列向量\n",
    "        [ObjVSel, LegVSel] = aimfuc(variable, LegVSel) # 求初代种群的目标函数值\n",
    "        # 父子合并\n",
    "        Chrom = np.vstack([Chrom, SelCh])\n",
    "        ObjV = np.vstack([ObjV, ObjVSel])\n",
    "        LegV = np.vstack([LegV, LegVSel])\n",
    "        # 合并种群的解码\n",
    "        if problem == 'R':\n",
    "            variable = ga.bs2rv(Chrom, FieldD) # 解码\n",
    "        elif problem == 'I':\n",
    "            if np.any(FieldD >= sys.maxsize):\n",
    "                variable = ga.bs2int(Chrom, FieldD).astype('object') # 解码\n",
    "            else:\n",
    "                variable = ga.bs2int(Chrom, FieldD).astype('int64')\n",
    "        # 对合并的种群进行适应度评价\n",
    "        FitnV = ga.ranking(maxormin * ObjV, LegV, None, SUBPOP)\n",
    "        if punfunc is not None:\n",
    "            FitnV = punishing(Chrom, FitnV) # 调用罚函数\n",
    "        # 记录进化过程\n",
    "        bestIdx = np.argmax(FitnV) # 获取最优个体的下标\n",
    "        if LegV[bestIdx] != 0:\n",
    "            feasible = np.where(LegV != 0)[0] # 排除非可行解\n",
    "            pop_trace[gen,0] = np.sum(ObjV[feasible]) / ObjV[feasible].shape[0] # 记录种群个体平均目标函数值\n",
    "            pop_trace[gen,1] = ObjV[bestIdx] # 记录当代目标函数的最优值\n",
    "            var_trace[gen,:] = variable[bestIdx, :] # 记录当代最优的控制变量值\n",
    "            # 绘制动态图\n",
    "            if drawing == 2:\n",
    "                ax = ga.sgaplot(pop_trace[:,[1]],'种群最优个体目标函数值', False, ax, gen)\n",
    "            badCounter = 0 # badCounter计数器清零\n",
    "        else:\n",
    "            gen -= 1 # 忽略这一代（遗忘策略）\n",
    "            badCounter += 1\n",
    "        [Chrom, ObjV, LegV] = ga.selecting(selectStyle, Chrom, FitnV, GGAP, SUBPOP, ObjV, LegV) # 选择个体生成新一代种群\n",
    "        gen += 1\n",
    "    end_time = time.time() # 结束计时\n",
    "    times = end_time - start_time\n",
    "    # 后处理进化记录器\n",
    "    delIdx = np.where(np.isnan(pop_trace))[0]\n",
    "    pop_trace = np.delete(pop_trace, delIdx, 0)\n",
    "    var_trace = np.delete(var_trace, delIdx, 0)\n",
    "    if pop_trace.shape[0] == 0:\n",
    "        raise RuntimeError('error: no feasible solution. (有效进化代数为0，没找到可行解。)')\n",
    "    # 绘图\n",
    "    if drawing != 0:\n",
    "        ga.trcplot(pop_trace, [['种群个体平均目标函数值', '种群最优个体目标函数值']])\n",
    "    # 输出结果\n",
    "    if maxormin == 1:\n",
    "        best_gen = np.argmin(pop_trace[:, 1]) # 记录最优种群是在哪一代\n",
    "        best_ObjV = np.min(pop_trace[:, 1])\n",
    "    elif maxormin == -1:\n",
    "        best_gen = np.argmax(pop_trace[:, 1]) # 记录最优种群是在哪一代\n",
    "        best_ObjV = np.max(pop_trace[:, 1])\n",
    "    print('最优的目标函数值为：%s'%(best_ObjV))\n",
    "    print('最优的控制变量值为：')\n",
    "    for i in range(NVAR):\n",
    "        print(var_trace[best_gen, i])\n",
    "    print('有效进化代数：%s'%(pop_trace.shape[0]))\n",
    "    print('最优的一代是第 %s 代'%(best_gen + 1))\n",
    "    print('时间已过 %s 秒'%(times))\n",
    "    # 返回进化记录器、变量记录器以及执行时间\n",
    "    return [pop_trace, var_trace, times]"
   ]
  },
  {
   "cell_type": "code",
   "execution_count": 85,
   "metadata": {},
   "outputs": [],
   "source": [
    "def rosen(x,LegV,alpha=1e2):\n",
    "    \"\"\"Rosenbrock test objective function\"\"\"\n",
    "    print(x)\n",
    "    x = [x] if np.isscalar(x[0]) else x  # scalar into list\n",
    "    x = np.asarray(x)\n",
    "    f = np.array([sum(alpha * (x[:-1]**2 - x[1:])**2 + (1. - x[:-1])**2) for x in x]).reshape(-1,1)\n",
    "    if len(f) > 1:\n",
    "        res = f\n",
    "    else:\n",
    "        res = f[0]\n",
    "    return [res, LegV]  # 1-element-list into scalar\n",
    "\n",
    "def aimfuc(Phen, LegV):\n",
    "    x1 = Phen[:, [0]]\n",
    "    x2 = Phen[:, [1]]\n",
    "    f = 21.5 + x1 * np.sin(4 * np.pi * x1) + x2 * np.sin(20 * np.pi * x2)\n",
    "    return [f, LegV]"
   ]
  },
  {
   "cell_type": "code",
   "execution_count": 92,
   "metadata": {},
   "outputs": [
    {
     "data": {
      "image/png": "[encoded data removed]",
      "text/plain": [
       "<Figure size 432x288 with 1 Axes>"
      ]
     },
     "metadata": {},
     "output_type": "display_data"
    },
    {
     "name": "stdout",
     "output_type": "stream",
     "text": [
      "最优的目标函数值为：3.849711533384501\n",
      "最优的控制变量值为：\n",
      "11.875524427507123\n",
      "5.775045014801477\n",
      "有效进化代数：100\n",
      "最优的一代是第 66 代\n",
      "时间已过 0.689401388168335 秒\n"
     ]
    }
   ],
   "source": [
    "# 变量设置\n",
    "x1 = [-3, 12.1] # 自变量1的范围\n",
    "x2 = [4.1, 5.8] # 自变量2的范围\n",
    "b1 = [1, 1] # 自变量1是否包含下界\n",
    "b2 = [1, 1] # 自变量2是否包含上界\n",
    "codes = [0, 0] # 自变量的编码方式，0表示采用标准二进制编码\n",
    "precisions = [4, 4] # 在二进制/格雷码编码中代表自变量的编码精度，当控制变量是二进制/格雷编码时，该参数可控制编码的精度\n",
    "scales = [0, 0] # 是否采用对数刻度\n",
    "ranges=np.vstack([x1, x2]).T # 生成自变量的范围矩阵\n",
    "borders = np.vstack([b1, b2]).T # 生成自变量的边界矩阵\n",
    "# 生成区域描述器\n",
    "FieldD = ga.crtfld(ranges, borders, precisions, codes, scales)\n",
    "\n",
    "# 调用编程模板(设置problem = 'R'处理实数型变量问题，详见该算法模板的源代码)\n",
    "[pop_trace, var_trace, times] = sga_new_code_templet(aimfuc, None, FieldD, problem = 'R', maxormin = 1, MAXGEN = 100, NIND = 100, SUBPOP = 1, GGAP = 0.8, selectStyle = 'sus', recombinStyle = 'xovdp', recopt = None, pm = None, distribute = True, drawing = 1)"
   ]
  },
  {
   "cell_type": "code",
   "execution_count": 149,
   "metadata": {},
   "outputs": [
    {
     "data": {
      "image/png": "[encoded data removed]",
      "text/plain": [
       "<Figure size 432x288 with 1 Axes>"
      ]
     },
     "metadata": {},
     "output_type": "display_data"
    },
    {
     "data": {
      "image/png": "[encoded data removed]",
      "text/plain": [
       "<Figure size 432x288 with 1 Axes>"
      ]
     },
     "metadata": {},
     "output_type": "display_data"
    }
   ],
   "source": [
    "ga.trcplot(pop_trace, [['种群个体平均目标函数值'],[ '种群最优个体目标函数值']])"
   ]
  },
  {
   "cell_type": "code",
   "execution_count": 150,
   "metadata": {},
   "outputs": [
    {
     "data": {
      "image/png": "[encoded data removed]",
      "text/plain": [
       "<Figure size 432x288 with 1 Axes>"
      ]
     },
     "metadata": {},
     "output_type": "display_data"
    }
   ],
   "source": [
    "trcplot(pop_trace, [['种群个体平均目标函数值', '种群最优个体目标函数值']])"
   ]
  },
  {
   "cell_type": "markdown",
   "metadata": {},
   "source": [
    "## test"
   ]
  }
 ],
 "metadata": {
  "hide_input": false,
  "kernelspec": {
   "display_name": "Python 3",
   "language": "python",
   "name": "python3"
  },
  "language_info": {
   "codemirror_mode": {
    "name": "ipython",
    "version": 3
   },
   "file_extension": ".py",
   "mimetype": "text/x-python",
   "name": "python",
   "nbconvert_exporter": "python",
   "pygments_lexer": "ipython3",
   "version": "3.6.7"
  },
  "toc": {
   "nav_menu": {},
   "number_sections": true,
   "sideBar": true,
   "skip_h1_title": false,
   "title_cell": "Table of Contents",
   "title_sidebar": "Contents",
   "toc_cell": false,
   "toc_position": {
    "height": "calc(100% - 180px)",
    "left": "10px",
    "top": "150px",
    "width": "165px"
   },
   "toc_section_display": true,
   "toc_window_display": true
  },
  "varInspector": {
   "cols": {
    "lenName": 16,
    "lenType": 16,
    "lenVar": 40
   },
   "kernels_config": {
    "python": {
     "delete_cmd_postfix": "",
     "delete_cmd_prefix": "del ",
     "library": "var_list.py",
     "varRefreshCmd": "print(var_dic_list())"
    },
    "r": {
     "delete_cmd_postfix": ") ",
     "delete_cmd_prefix": "rm(",
     "library": "var_list.r",
     "varRefreshCmd": "cat(var_dic_list()) "
    }
   },
   "types_to_exclude": [
    "module",
    "function",
    "builtin_function_or_method",
    "instance",
    "_Feature"
   ],
   "window_display": false
  }
 },
 "nbformat": 4,
 "nbformat_minor": 2
}
